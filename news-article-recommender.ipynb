{
 "cells": [
  {
   "cell_type": "markdown",
   "id": "41bb8a9f",
   "metadata": {},
   "source": [
    "# Problem Statement\n",
    "\n",
    "### Imagine you have a dataset where you have different categories of data, Now you need to find the most similar data to the given data by using any 4 different similarity algorithms. Now you have to build a model which can find the most similar data to the given data.\n"
   ]
  },
  {
   "cell_type": "code",
   "execution_count": 1,
   "id": "304162f1",
   "metadata": {},
   "outputs": [],
   "source": [
    "#import necessory library\n",
    "import numpy as np\n",
    "import pandas as pd\n",
    "import json\n",
    "import plotly.graph_objects as go\n",
    "import seaborn as sns\n",
    "import matplotlib.pyplot as plt\n",
    "\n",
    "# libraries for text processing using NLTK\n",
    "from nltk.corpus import stopwords\n",
    "from nltk.tokenize import word_tokenize\n",
    "from nltk.stem import WordNetLemmatizer\n",
    "\n",
    "# libraries  for feature representation using sklearn\n",
    "from sklearn.feature_extraction.text import CountVectorizer\n",
    "from sklearn.feature_extraction.text import TfidfVectorizer\n",
    "\n",
    "# libraries for similarity matrices using sklearn\n",
    "from sklearn.metrics.pairwise import cosine_similarity  \n",
    "from sklearn.metrics import pairwise_distances"
   ]
  },
  {
   "cell_type": "code",
   "execution_count": 2,
   "id": "9906fc87",
   "metadata": {},
   "outputs": [],
   "source": [
    "#read data\n",
    "df = pd.read_json('../dataset/News_Category_Dataset_v3.json',lines=True)"
   ]
  },
  {
   "cell_type": "code",
   "execution_count": 3,
   "id": "14d22435",
   "metadata": {},
   "outputs": [
    {
     "data": {
      "text/html": [
       "<div>\n",
       "<style scoped>\n",
       "    .dataframe tbody tr th:only-of-type {\n",
       "        vertical-align: middle;\n",
       "    }\n",
       "\n",
       "    .dataframe tbody tr th {\n",
       "        vertical-align: top;\n",
       "    }\n",
       "\n",
       "    .dataframe thead th {\n",
       "        text-align: right;\n",
       "    }\n",
       "</style>\n",
       "<table border=\"1\" class=\"dataframe\">\n",
       "  <thead>\n",
       "    <tr style=\"text-align: right;\">\n",
       "      <th></th>\n",
       "      <th>link</th>\n",
       "      <th>headline</th>\n",
       "      <th>category</th>\n",
       "      <th>short_description</th>\n",
       "      <th>authors</th>\n",
       "      <th>date</th>\n",
       "    </tr>\n",
       "  </thead>\n",
       "  <tbody>\n",
       "    <tr>\n",
       "      <th>0</th>\n",
       "      <td>https://www.huffpost.com/entry/covid-boosters-...</td>\n",
       "      <td>Over 4 Million Americans Roll Up Sleeves For O...</td>\n",
       "      <td>U.S. NEWS</td>\n",
       "      <td>Health experts said it is too early to predict...</td>\n",
       "      <td>Carla K. Johnson, AP</td>\n",
       "      <td>2022-09-23</td>\n",
       "    </tr>\n",
       "    <tr>\n",
       "      <th>1</th>\n",
       "      <td>https://www.huffpost.com/entry/american-airlin...</td>\n",
       "      <td>American Airlines Flyer Charged, Banned For Li...</td>\n",
       "      <td>U.S. NEWS</td>\n",
       "      <td>He was subdued by passengers and crew when he ...</td>\n",
       "      <td>Mary Papenfuss</td>\n",
       "      <td>2022-09-23</td>\n",
       "    </tr>\n",
       "  </tbody>\n",
       "</table>\n",
       "</div>"
      ],
      "text/plain": [
       "                                                link  \\\n",
       "0  https://www.huffpost.com/entry/covid-boosters-...   \n",
       "1  https://www.huffpost.com/entry/american-airlin...   \n",
       "\n",
       "                                            headline   category  \\\n",
       "0  Over 4 Million Americans Roll Up Sleeves For O...  U.S. NEWS   \n",
       "1  American Airlines Flyer Charged, Banned For Li...  U.S. NEWS   \n",
       "\n",
       "                                   short_description               authors  \\\n",
       "0  Health experts said it is too early to predict...  Carla K. Johnson, AP   \n",
       "1  He was subdued by passengers and crew when he ...        Mary Papenfuss   \n",
       "\n",
       "        date  \n",
       "0 2022-09-23  \n",
       "1 2022-09-23  "
      ]
     },
     "execution_count": 3,
     "metadata": {},
     "output_type": "execute_result"
    }
   ],
   "source": [
    "df.head(2)"
   ]
  },
  {
   "cell_type": "code",
   "execution_count": 4,
   "id": "1fb0eec2",
   "metadata": {},
   "outputs": [
    {
     "name": "stdout",
     "output_type": "stream",
     "text": [
      "<class 'pandas.core.frame.DataFrame'>\n",
      "RangeIndex: 209527 entries, 0 to 209526\n",
      "Data columns (total 6 columns):\n",
      " #   Column             Non-Null Count   Dtype         \n",
      "---  ------             --------------   -----         \n",
      " 0   link               209527 non-null  object        \n",
      " 1   headline           209527 non-null  object        \n",
      " 2   category           209527 non-null  object        \n",
      " 3   short_description  209527 non-null  object        \n",
      " 4   authors            209527 non-null  object        \n",
      " 5   date               209527 non-null  datetime64[ns]\n",
      "dtypes: datetime64[ns](1), object(5)\n",
      "memory usage: 9.6+ MB\n"
     ]
    }
   ],
   "source": [
    "df.info()"
   ]
  },
  {
   "cell_type": "markdown",
   "id": "0085b0b3",
   "metadata": {},
   "source": [
    "### Data Preprocessing & EDA"
   ]
  },
  {
   "cell_type": "code",
   "execution_count": 5,
   "id": "e81f217f",
   "metadata": {},
   "outputs": [],
   "source": [
    "#Removing all the short headline articles"
   ]
  },
  {
   "cell_type": "code",
   "execution_count": 6,
   "id": "a9d3099e",
   "metadata": {},
   "outputs": [],
   "source": [
    "df = df[df['headline'].apply(lambda x: len(x.split())>5)]"
   ]
  },
  {
   "cell_type": "code",
   "execution_count": 7,
   "id": "71daf485",
   "metadata": {},
   "outputs": [
    {
     "name": "stdout",
     "output_type": "stream",
     "text": [
      "Total number of articles after removal of headlines with short title: 189196\n"
     ]
    }
   ],
   "source": [
    "print(\"Total number of articles after removal of headlines with short title:\", df.shape[0])"
   ]
  },
  {
   "cell_type": "code",
   "execution_count": 8,
   "id": "ea6e90b7",
   "metadata": {},
   "outputs": [],
   "source": [
    "#Checking and removing all the duplicates"
   ]
  },
  {
   "cell_type": "code",
   "execution_count": 9,
   "id": "6ebdbd29",
   "metadata": {},
   "outputs": [],
   "source": [
    "df.sort_values('headline',inplace=True, ascending=False)"
   ]
  },
  {
   "cell_type": "code",
   "execution_count": 10,
   "id": "1cb59a52",
   "metadata": {},
   "outputs": [
    {
     "data": {
      "text/plain": [
       "1808"
      ]
     },
     "execution_count": 10,
     "metadata": {},
     "output_type": "execute_result"
    }
   ],
   "source": [
    "df.duplicated('headline', keep = False).sum()"
   ]
  },
  {
   "cell_type": "code",
   "execution_count": 11,
   "id": "2c4d698b",
   "metadata": {},
   "outputs": [],
   "source": [
    "duplicated_articles = df.duplicated('headline', keep = False)"
   ]
  },
  {
   "cell_type": "code",
   "execution_count": 12,
   "id": "0b9602ff",
   "metadata": {},
   "outputs": [
    {
     "name": "stdout",
     "output_type": "stream",
     "text": [
      "Total number of articles after removing duplicates: 187388\n"
     ]
    }
   ],
   "source": [
    "df = df[~duplicated_articles]\n",
    "print(\"Total number of articles after removing duplicates:\", df.shape[0])"
   ]
  },
  {
   "cell_type": "code",
   "execution_count": 13,
   "id": "97db1645",
   "metadata": {},
   "outputs": [],
   "source": [
    "#Checking for missing values"
   ]
  },
  {
   "cell_type": "code",
   "execution_count": 14,
   "id": "681adb67",
   "metadata": {},
   "outputs": [
    {
     "data": {
      "text/plain": [
       "link                 0\n",
       "headline             0\n",
       "category             0\n",
       "short_description    0\n",
       "authors              0\n",
       "date                 0\n",
       "dtype: int64"
      ]
     },
     "execution_count": 14,
     "metadata": {},
     "output_type": "execute_result"
    }
   ],
   "source": [
    "df.isna().sum()"
   ]
  },
  {
   "cell_type": "code",
   "execution_count": 15,
   "id": "834fdb24",
   "metadata": {},
   "outputs": [
    {
     "name": "stdout",
     "output_type": "stream",
     "text": [
      "Total number of articles :  187388\n",
      "Total number of authors :  25765\n",
      "Total number of unqiue categories :  42\n"
     ]
    }
   ],
   "source": [
    "print(\"Total number of articles : \",df.shape[0])\n",
    "print(\"Total number of authors : \", df[\"authors\"].nunique())\n",
    "print(\"Total number of unqiue categories : \", df[\"category\"].nunique())"
   ]
  },
  {
   "cell_type": "code",
   "execution_count": 16,
   "id": "29602bdf",
   "metadata": {},
   "outputs": [
    {
     "data": {
      "image/png": "[encoded data removed]",
      "text/plain": [
       "<Figure size 720x720 with 1 Axes>"
      ]
     },
     "metadata": {
      "needs_background": "light"
     },
     "output_type": "display_data"
    }
   ],
   "source": [
    "plt.figure(figsize=(10,10))\n",
    "sns.barplot(x=df[\"category\"].value_counts().index, y=df[\"category\"].value_counts().values)\n",
    "plt.title(\"Distribution of articles category-wise\")\n",
    "plt.xlabel(\"Category name\")\n",
    "plt.ylabel(\"Number of articles\")\n",
    "plt.xticks(rotation=90)\n",
    "plt.tight_layout()\n",
    "plt.show()"
   ]
  },
  {
   "cell_type": "markdown",
   "id": "4ed24c8e",
   "metadata": {},
   "source": [
    "- From the bar chart, we can observe that `politics` category has highest number of articles then entertainment and so on."
   ]
  },
  {
   "cell_type": "code",
   "execution_count": 17,
   "id": "da097ecd",
   "metadata": {},
   "outputs": [],
   "source": [
    "#Number of articles per month"
   ]
  },
  {
   "cell_type": "code",
   "execution_count": 18,
   "id": "1612341a",
   "metadata": {},
   "outputs": [
    {
     "data": {
      "text/plain": [
       "date\n",
       "2012-01-31     279\n",
       "2012-02-29    2158\n",
       "2012-03-31    2241\n",
       "2012-04-30    2206\n",
       "2012-05-31    2355\n",
       "              ... \n",
       "2022-05-31     171\n",
       "2022-06-30     146\n",
       "2022-07-31     142\n",
       "2022-08-31     173\n",
       "2022-09-30     127\n",
       "Freq: M, Name: headline, Length: 129, dtype: int64"
      ]
     },
     "execution_count": 18,
     "metadata": {},
     "output_type": "execute_result"
    }
   ],
   "source": [
    "news_articles_per_month = df.resample('m',on = 'date')['headline'].count()\n",
    "news_articles_per_month"
   ]
  },
  {
   "cell_type": "code",
   "execution_count": 19,
   "id": "3890594d",
   "metadata": {},
   "outputs": [
    {
     "data": {
      "image/png": "[encoded data removed]",
      "text/plain": [
       "<Figure size 432x288 with 1 Axes>"
      ]
     },
     "metadata": {
      "needs_background": "light"
     },
     "output_type": "display_data"
    }
   ],
   "source": [
    "sns.barplot(x=news_articles_per_month.index.strftime(\"%b\"), y=news_articles_per_month)\n",
    "plt.title(\"Distribution of articles month-wise\")\n",
    "plt.xlabel(\"Month\")\n",
    "plt.ylabel(\"Number of articles\")\n",
    "plt.xticks(rotation=90)\n",
    "plt.tight_layout()\n",
    "plt.show()"
   ]
  },
  {
   "cell_type": "markdown",
   "id": "2d365a1b",
   "metadata": {},
   "source": [
    "- From the bar chart, we can observe that March month has highest number of articles."
   ]
  },
  {
   "cell_type": "code",
   "execution_count": 20,
   "id": "3c023d51",
   "metadata": {},
   "outputs": [],
   "source": [
    "#PDF for the length of headlines"
   ]
  },
  {
   "cell_type": "code",
   "execution_count": 21,
   "id": "37e6f4da",
   "metadata": {},
   "outputs": [
    {
     "data": {
      "image/png": "[encoded data removed]",
      "text/plain": [
       "<Figure size 432x288 with 1 Axes>"
      ]
     },
     "metadata": {
      "needs_background": "light"
     },
     "output_type": "display_data"
    }
   ],
   "source": [
    "sns.kdeplot(x =df['headline'].str.len() )\n",
    "plt.title(\"Probability Distribution\")\n",
    "plt.xlabel(\"Headline\")\n",
    "plt.ylabel(\"Probablity\")\n",
    "plt.xticks(rotation=90)\n",
    "plt.tight_layout()\n",
    "plt.show()"
   ]
  },
  {
   "cell_type": "markdown",
   "id": "80ac7974",
   "metadata": {},
   "source": [
    "- The probability distribution function of headline length is almost similar to a Guassian distribution(right skewed due to outlier), where most of the headlines are 40 to 80 words long in length."
   ]
  },
  {
   "cell_type": "code",
   "execution_count": 22,
   "id": "819e2696",
   "metadata": {},
   "outputs": [],
   "source": [
    "#Adding a new column containing both day of the week and month, it will be required later while recommending based on day of the week and month"
   ]
  },
  {
   "cell_type": "code",
   "execution_count": 23,
   "id": "c95d7452",
   "metadata": {},
   "outputs": [],
   "source": [
    "df[\"day and month\"] = df[\"date\"].dt.strftime(\"%a\") + \"_\" + df[\"date\"].dt.strftime(\"%b\")"
   ]
  },
  {
   "cell_type": "code",
   "execution_count": 24,
   "id": "2a48f97e",
   "metadata": {},
   "outputs": [],
   "source": [
    "data = df.copy()"
   ]
  },
  {
   "cell_type": "markdown",
   "id": "b3b2f7ca",
   "metadata": {},
   "source": [
    "### Text Preprocessing"
   ]
  },
  {
   "cell_type": "code",
   "execution_count": 25,
   "id": "12551947",
   "metadata": {},
   "outputs": [],
   "source": [
    "#1.Stopwords removal"
   ]
  },
  {
   "cell_type": "code",
   "execution_count": 26,
   "id": "14fd8143",
   "metadata": {},
   "outputs": [
    {
     "data": {
      "text/html": [
       "<div>\n",
       "<style scoped>\n",
       "    .dataframe tbody tr th:only-of-type {\n",
       "        vertical-align: middle;\n",
       "    }\n",
       "\n",
       "    .dataframe tbody tr th {\n",
       "        vertical-align: top;\n",
       "    }\n",
       "\n",
       "    .dataframe thead th {\n",
       "        text-align: right;\n",
       "    }\n",
       "</style>\n",
       "<table border=\"1\" class=\"dataframe\">\n",
       "  <thead>\n",
       "    <tr style=\"text-align: right;\">\n",
       "      <th></th>\n",
       "      <th>link</th>\n",
       "      <th>headline</th>\n",
       "      <th>category</th>\n",
       "      <th>short_description</th>\n",
       "      <th>authors</th>\n",
       "      <th>date</th>\n",
       "      <th>day and month</th>\n",
       "    </tr>\n",
       "  </thead>\n",
       "  <tbody>\n",
       "    <tr>\n",
       "      <th>44964</th>\n",
       "      <td>https://www.huffingtonpost.com/entry/we-shall-...</td>\n",
       "      <td>“We Shall Overcomb!” Say The 100,000 Marching ...</td>\n",
       "      <td>WOMEN</td>\n",
       "      <td>Thousands of activists descended on London to ...</td>\n",
       "      <td>Darin Graham, ContributorJournalist</td>\n",
       "      <td>2017-01-25</td>\n",
       "      <td>Wed_Jan</td>\n",
       "    </tr>\n",
       "    <tr>\n",
       "      <th>29868</th>\n",
       "      <td>https://www.huffingtonpost.com/entry/to-the-bo...</td>\n",
       "      <td>“To The Bone” Didn’t Teach Me Glamour. It Taug...</td>\n",
       "      <td>HEALTHY LIVING</td>\n",
       "      <td>Oftentimes, films or TV shows about eating dis...</td>\n",
       "      <td>Mycah Hazel, Contributorblogger, equal opportu...</td>\n",
       "      <td>2017-07-18</td>\n",
       "      <td>Tue_Jul</td>\n",
       "    </tr>\n",
       "    <tr>\n",
       "      <th>38346</th>\n",
       "      <td>https://www.huffingtonpost.com/entry/im-sorryt...</td>\n",
       "      <td>“I’m Sorry\"--The Two Tragically Forgotten Word...</td>\n",
       "      <td>BUSINESS</td>\n",
       "      <td>Unfortunately, I was one of those frustrated p...</td>\n",
       "      <td>Dana Brownlee, ContributorPresident of Profess...</td>\n",
       "      <td>2017-04-10</td>\n",
       "      <td>Mon_Apr</td>\n",
       "    </tr>\n",
       "    <tr>\n",
       "      <th>2565</th>\n",
       "      <td>https://www.huffpost.com/entry/nsync-backstree...</td>\n",
       "      <td>’N Sync's Chris Kirkpatrick Says He 'Couldn't ...</td>\n",
       "      <td>ENTERTAINMENT</td>\n",
       "      <td>The former boy banders apparently did not like...</td>\n",
       "      <td>Jenna Amatulli</td>\n",
       "      <td>2021-06-09</td>\n",
       "      <td>Wed_Jun</td>\n",
       "    </tr>\n",
       "    <tr>\n",
       "      <th>1740</th>\n",
       "      <td>https://www.huffpost.com/entry/jim-bob-duggar-...</td>\n",
       "      <td>’19 Kids And Counting’ Father Running For Arka...</td>\n",
       "      <td>POLITICS</td>\n",
       "      <td>Jim Bob Duggar, who previously served in the A...</td>\n",
       "      <td></td>\n",
       "      <td>2021-10-31</td>\n",
       "      <td>Sun_Oct</td>\n",
       "    </tr>\n",
       "  </tbody>\n",
       "</table>\n",
       "</div>"
      ],
      "text/plain": [
       "                                                    link  \\\n",
       "44964  https://www.huffingtonpost.com/entry/we-shall-...   \n",
       "29868  https://www.huffingtonpost.com/entry/to-the-bo...   \n",
       "38346  https://www.huffingtonpost.com/entry/im-sorryt...   \n",
       "2565   https://www.huffpost.com/entry/nsync-backstree...   \n",
       "1740   https://www.huffpost.com/entry/jim-bob-duggar-...   \n",
       "\n",
       "                                                headline        category  \\\n",
       "44964  “We Shall Overcomb!” Say The 100,000 Marching ...           WOMEN   \n",
       "29868  “To The Bone” Didn’t Teach Me Glamour. It Taug...  HEALTHY LIVING   \n",
       "38346  “I’m Sorry\"--The Two Tragically Forgotten Word...        BUSINESS   \n",
       "2565   ’N Sync's Chris Kirkpatrick Says He 'Couldn't ...   ENTERTAINMENT   \n",
       "1740   ’19 Kids And Counting’ Father Running For Arka...        POLITICS   \n",
       "\n",
       "                                       short_description  \\\n",
       "44964  Thousands of activists descended on London to ...   \n",
       "29868  Oftentimes, films or TV shows about eating dis...   \n",
       "38346  Unfortunately, I was one of those frustrated p...   \n",
       "2565   The former boy banders apparently did not like...   \n",
       "1740   Jim Bob Duggar, who previously served in the A...   \n",
       "\n",
       "                                                 authors       date  \\\n",
       "44964                Darin Graham, ContributorJournalist 2017-01-25   \n",
       "29868  Mycah Hazel, Contributorblogger, equal opportu... 2017-07-18   \n",
       "38346  Dana Brownlee, ContributorPresident of Profess... 2017-04-10   \n",
       "2565                                      Jenna Amatulli 2021-06-09   \n",
       "1740                                                     2021-10-31   \n",
       "\n",
       "      day and month  \n",
       "44964       Wed_Jan  \n",
       "29868       Tue_Jul  \n",
       "38346       Mon_Apr  \n",
       "2565        Wed_Jun  \n",
       "1740        Sun_Oct  "
      ]
     },
     "execution_count": 26,
     "metadata": {},
     "output_type": "execute_result"
    }
   ],
   "source": [
    "data.head()"
   ]
  },
  {
   "cell_type": "code",
   "execution_count": 27,
   "id": "8f809754",
   "metadata": {},
   "outputs": [],
   "source": [
    "data.reset_index(inplace=True)"
   ]
  },
  {
   "cell_type": "code",
   "execution_count": 28,
   "id": "cc284f84",
   "metadata": {},
   "outputs": [],
   "source": [
    "stop_words = set(stopwords.words('english'))"
   ]
  },
  {
   "cell_type": "code",
   "execution_count": 29,
   "id": "e99a0544",
   "metadata": {},
   "outputs": [
    {
     "name": "stdout",
     "output_type": "stream",
     "text": [
      "0\n",
      "1000\n",
      "2000\n",
      "3000\n",
      "4000\n",
      "5000\n",
      "6000\n",
      "7000\n",
      "8000\n",
      "9000\n",
      "10000\n",
      "11000\n",
      "12000\n",
      "13000\n",
      "14000\n",
      "15000\n",
      "16000\n",
      "17000\n",
      "18000\n",
      "19000\n",
      "20000\n",
      "21000\n",
      "22000\n",
      "23000\n",
      "24000\n",
      "25000\n",
      "26000\n",
      "27000\n",
      "28000\n",
      "29000\n",
      "30000\n",
      "31000\n",
      "32000\n",
      "33000\n",
      "34000\n",
      "35000\n",
      "36000\n",
      "37000\n",
      "38000\n",
      "39000\n",
      "40000\n",
      "41000\n",
      "42000\n",
      "43000\n",
      "44000\n",
      "45000\n",
      "46000\n",
      "47000\n",
      "48000\n",
      "49000\n",
      "50000\n",
      "51000\n",
      "52000\n",
      "53000\n",
      "54000\n",
      "55000\n",
      "56000\n",
      "57000\n",
      "58000\n",
      "59000\n",
      "60000\n",
      "61000\n",
      "62000\n",
      "63000\n",
      "64000\n",
      "65000\n",
      "66000\n",
      "67000\n",
      "68000\n",
      "69000\n",
      "70000\n",
      "71000\n",
      "72000\n",
      "73000\n",
      "74000\n",
      "75000\n",
      "76000\n",
      "77000\n",
      "78000\n",
      "79000\n",
      "80000\n",
      "81000\n",
      "82000\n",
      "83000\n",
      "84000\n",
      "85000\n",
      "86000\n",
      "87000\n",
      "88000\n",
      "89000\n",
      "90000\n",
      "91000\n",
      "92000\n",
      "93000\n",
      "94000\n",
      "95000\n",
      "96000\n",
      "97000\n",
      "98000\n",
      "99000\n",
      "100000\n",
      "101000\n",
      "102000\n",
      "103000\n",
      "104000\n",
      "105000\n",
      "106000\n",
      "107000\n",
      "108000\n",
      "109000\n",
      "110000\n",
      "111000\n",
      "112000\n",
      "113000\n",
      "114000\n",
      "115000\n",
      "116000\n",
      "117000\n",
      "118000\n",
      "119000\n",
      "120000\n",
      "121000\n",
      "122000\n",
      "123000\n",
      "124000\n",
      "125000\n",
      "126000\n",
      "127000\n",
      "128000\n",
      "129000\n",
      "130000\n",
      "131000\n",
      "132000\n",
      "133000\n",
      "134000\n",
      "135000\n",
      "136000\n",
      "137000\n",
      "138000\n",
      "139000\n",
      "140000\n",
      "141000\n",
      "142000\n",
      "143000\n",
      "144000\n",
      "145000\n",
      "146000\n",
      "147000\n",
      "148000\n",
      "149000\n",
      "150000\n",
      "151000\n",
      "152000\n",
      "153000\n",
      "154000\n",
      "155000\n",
      "156000\n",
      "157000\n",
      "158000\n",
      "159000\n",
      "160000\n",
      "161000\n",
      "162000\n",
      "163000\n",
      "164000\n",
      "165000\n",
      "166000\n",
      "167000\n",
      "168000\n",
      "169000\n",
      "170000\n",
      "171000\n",
      "172000\n",
      "173000\n",
      "174000\n",
      "175000\n",
      "176000\n",
      "177000\n",
      "178000\n",
      "179000\n",
      "180000\n",
      "181000\n",
      "182000\n",
      "183000\n",
      "184000\n",
      "185000\n",
      "186000\n",
      "187000\n"
     ]
    }
   ],
   "source": [
    "for i in range(len(data[\"headline\"])):\n",
    "    string = \"\"\n",
    "    for word in data[\"headline\"][i].split():\n",
    "        word = (\"\".join(e for e in word if e.isalnum()))\n",
    "        word = word.lower()\n",
    "        if not word in stop_words:\n",
    "            string += word + \" \"  \n",
    "    if(i%1000==0):\n",
    "        print(i)           # To track number of records processed\n",
    "    data.at[i,\"headline\"] = string.strip()"
   ]
  },
  {
   "cell_type": "code",
   "execution_count": 30,
   "id": "00d359d2",
   "metadata": {},
   "outputs": [],
   "source": [
    "#Lemmatization"
   ]
  },
  {
   "cell_type": "code",
   "execution_count": 31,
   "id": "0a6c9f34",
   "metadata": {},
   "outputs": [
    {
     "name": "stderr",
     "output_type": "stream",
     "text": [
      "[nltk_data] Downloading package omw-1.4 to\n",
      "[nltk_data]     C:\\Users\\anike\\AppData\\Roaming\\nltk_data...\n",
      "[nltk_data]   Package omw-1.4 is already up-to-date!\n"
     ]
    },
    {
     "data": {
      "text/plain": [
       "True"
      ]
     },
     "execution_count": 31,
     "metadata": {},
     "output_type": "execute_result"
    }
   ],
   "source": [
    "import nltk\n",
    "nltk.download('omw-1.4')"
   ]
  },
  {
   "cell_type": "code",
   "execution_count": 32,
   "id": "214fddcc",
   "metadata": {},
   "outputs": [],
   "source": [
    "lemmatizer = WordNetLemmatizer()"
   ]
  },
  {
   "cell_type": "code",
   "execution_count": 33,
   "id": "9ab6827b",
   "metadata": {},
   "outputs": [
    {
     "name": "stdout",
     "output_type": "stream",
     "text": [
      "0\n",
      "1000\n",
      "2000\n",
      "3000\n",
      "4000\n",
      "5000\n",
      "6000\n",
      "7000\n",
      "8000\n",
      "9000\n",
      "10000\n",
      "11000\n",
      "12000\n",
      "13000\n",
      "14000\n",
      "15000\n",
      "16000\n",
      "17000\n",
      "18000\n",
      "19000\n",
      "20000\n",
      "21000\n",
      "22000\n",
      "23000\n",
      "24000\n",
      "25000\n",
      "26000\n",
      "27000\n",
      "28000\n",
      "29000\n",
      "30000\n",
      "31000\n",
      "32000\n",
      "33000\n",
      "34000\n",
      "35000\n",
      "36000\n",
      "37000\n",
      "38000\n",
      "39000\n",
      "40000\n",
      "41000\n",
      "42000\n",
      "43000\n",
      "44000\n",
      "45000\n",
      "46000\n",
      "47000\n",
      "48000\n",
      "49000\n",
      "50000\n",
      "51000\n",
      "52000\n",
      "53000\n",
      "54000\n",
      "55000\n",
      "56000\n",
      "57000\n",
      "58000\n",
      "59000\n",
      "60000\n",
      "61000\n",
      "62000\n",
      "63000\n",
      "64000\n",
      "65000\n",
      "66000\n",
      "67000\n",
      "68000\n",
      "69000\n",
      "70000\n",
      "71000\n",
      "72000\n",
      "73000\n",
      "74000\n",
      "75000\n",
      "76000\n",
      "77000\n",
      "78000\n",
      "79000\n",
      "80000\n",
      "81000\n",
      "82000\n",
      "83000\n",
      "84000\n",
      "85000\n",
      "86000\n",
      "87000\n",
      "88000\n",
      "89000\n",
      "90000\n",
      "91000\n",
      "92000\n",
      "93000\n",
      "94000\n",
      "95000\n",
      "96000\n",
      "97000\n",
      "98000\n",
      "99000\n",
      "100000\n",
      "101000\n",
      "102000\n",
      "103000\n",
      "104000\n",
      "105000\n",
      "106000\n",
      "107000\n",
      "108000\n",
      "109000\n",
      "110000\n",
      "111000\n",
      "112000\n",
      "113000\n",
      "114000\n",
      "115000\n",
      "116000\n",
      "117000\n",
      "118000\n",
      "119000\n",
      "120000\n",
      "121000\n",
      "122000\n",
      "123000\n",
      "124000\n",
      "125000\n",
      "126000\n",
      "127000\n",
      "128000\n",
      "129000\n",
      "130000\n",
      "131000\n",
      "132000\n",
      "133000\n",
      "134000\n",
      "135000\n",
      "136000\n",
      "137000\n",
      "138000\n",
      "139000\n",
      "140000\n",
      "141000\n",
      "142000\n",
      "143000\n",
      "144000\n",
      "145000\n",
      "146000\n",
      "147000\n",
      "148000\n",
      "149000\n",
      "150000\n",
      "151000\n",
      "152000\n",
      "153000\n",
      "154000\n",
      "155000\n",
      "156000\n",
      "157000\n",
      "158000\n",
      "159000\n",
      "160000\n",
      "161000\n",
      "162000\n",
      "163000\n",
      "164000\n",
      "165000\n",
      "166000\n",
      "167000\n",
      "168000\n",
      "169000\n",
      "170000\n",
      "171000\n",
      "172000\n",
      "173000\n",
      "174000\n",
      "175000\n",
      "176000\n",
      "177000\n",
      "178000\n",
      "179000\n",
      "180000\n",
      "181000\n",
      "182000\n",
      "183000\n",
      "184000\n",
      "185000\n",
      "186000\n",
      "187000\n"
     ]
    }
   ],
   "source": [
    "for i in range(len(data[\"headline\"])):\n",
    "    string = \"\"\n",
    "    for w in word_tokenize(data[\"headline\"][i]):\n",
    "        string += lemmatizer.lemmatize(w,pos = \"v\") + \" \"\n",
    "    data.at[i, \"headline\"] = string.strip()\n",
    "    if(i%1000==0):\n",
    "        print(i)           # To track number of records processed"
   ]
  },
  {
   "cell_type": "markdown",
   "id": "f61a6538",
   "metadata": {},
   "source": [
    "### Headline based similarity on new articles\n",
    "\n",
    "### 1.BOW"
   ]
  },
  {
   "cell_type": "code",
   "execution_count": 34,
   "id": "b30d69a0",
   "metadata": {},
   "outputs": [],
   "source": [
    "headline_vectorizer = CountVectorizer()\n",
    "headline_features   = headline_vectorizer.fit_transform(data['headline'])"
   ]
  },
  {
   "cell_type": "code",
   "execution_count": 35,
   "id": "8c866671",
   "metadata": {},
   "outputs": [
    {
     "data": {
      "text/plain": [
       "(187388, 58064)"
      ]
     },
     "execution_count": 35,
     "metadata": {},
     "output_type": "execute_result"
    }
   ],
   "source": [
    "headline_features.get_shape()"
   ]
  },
  {
   "cell_type": "code",
   "execution_count": 36,
   "id": "03f91844",
   "metadata": {},
   "outputs": [
    {
     "name": "stderr",
     "output_type": "stream",
     "text": [
      "C:\\Users\\anike\\AppData\\Local\\Temp\\ipykernel_10132\\2847209856.py:1: FutureWarning: Passing a negative integer is deprecated in version 1.0 and will not be supported in future version. Instead, use None to not limit the column width.\n",
      "  pd.set_option('display.max_colwidth', -1)  # To display a very long headline\n"
     ]
    }
   ],
   "source": [
    "pd.set_option('display.max_colwidth', -1)  # To display a very long headline "
   ]
  },
  {
   "cell_type": "markdown",
   "id": "aebd34eb",
   "metadata": {},
   "source": [
    "### 1.1 Euclidean distance"
   ]
  },
  {
   "cell_type": "code",
   "execution_count": 37,
   "id": "f7641f3f",
   "metadata": {},
   "outputs": [
    {
     "name": "stdout",
     "output_type": "stream",
     "text": [
      "============================== Queried article details ==============================\n",
      "headline :  rupauls drag race star 3 episode 2 recap sour milk\n",
      "\n",
      " ========================= Recommended articles :  =======================\n"
     ]
    },
    {
     "data": {
      "text/html": [
       "<div>\n",
       "<style scoped>\n",
       "    .dataframe tbody tr th:only-of-type {\n",
       "        vertical-align: middle;\n",
       "    }\n",
       "\n",
       "    .dataframe tbody tr th {\n",
       "        vertical-align: top;\n",
       "    }\n",
       "\n",
       "    .dataframe thead th {\n",
       "        text-align: right;\n",
       "    }\n",
       "</style>\n",
       "<table border=\"1\" class=\"dataframe\">\n",
       "  <thead>\n",
       "    <tr style=\"text-align: right;\">\n",
       "      <th></th>\n",
       "      <th>publish_date</th>\n",
       "      <th>headline</th>\n",
       "      <th>Euclidean similarity with the queried article</th>\n",
       "    </tr>\n",
       "  </thead>\n",
       "  <tbody>\n",
       "    <tr>\n",
       "      <th>1</th>\n",
       "      <td>2018-02-16</td>\n",
       "      <td>rupauls drag race star 3 episode 4 recap snatch game</td>\n",
       "      <td>2.000000</td>\n",
       "    </tr>\n",
       "    <tr>\n",
       "      <th>2</th>\n",
       "      <td>2018-02-12</td>\n",
       "      <td>rupauls drag race star 3 episode 3 recap bitchelors heart</td>\n",
       "      <td>2.000000</td>\n",
       "    </tr>\n",
       "    <tr>\n",
       "      <th>3</th>\n",
       "      <td>2018-03-02</td>\n",
       "      <td>rupauls drag race star 3 episode 6 recap queen return competition</td>\n",
       "      <td>2.236068</td>\n",
       "    </tr>\n",
       "    <tr>\n",
       "      <th>4</th>\n",
       "      <td>2015-02-25</td>\n",
       "      <td>6 question milk rupauls drag race</td>\n",
       "      <td>2.236068</td>\n",
       "    </tr>\n",
       "    <tr>\n",
       "      <th>5</th>\n",
       "      <td>2018-03-16</td>\n",
       "      <td>rupauls drag race star 3 episode 8 recap queen snatch crown</td>\n",
       "      <td>2.236068</td>\n",
       "    </tr>\n",
       "  </tbody>\n",
       "</table>\n",
       "</div>"
      ],
      "text/plain": [
       "  publish_date  \\\n",
       "1 2018-02-16     \n",
       "2 2018-02-12     \n",
       "3 2018-03-02     \n",
       "4 2015-02-25     \n",
       "5 2018-03-16     \n",
       "\n",
       "                                                            headline  \\\n",
       "1  rupauls drag race star 3 episode 4 recap snatch game                \n",
       "2  rupauls drag race star 3 episode 3 recap bitchelors heart           \n",
       "3  rupauls drag race star 3 episode 6 recap queen return competition   \n",
       "4  6 question milk rupauls drag race                                   \n",
       "5  rupauls drag race star 3 episode 8 recap queen snatch crown         \n",
       "\n",
       "   Euclidean similarity with the queried article  \n",
       "1  2.000000                                       \n",
       "2  2.000000                                       \n",
       "3  2.236068                                       \n",
       "4  2.236068                                       \n",
       "5  2.236068                                       "
      ]
     },
     "execution_count": 37,
     "metadata": {},
     "output_type": "execute_result"
    }
   ],
   "source": [
    "def bag_of_words_based_model(row_index, num_similar_items):\n",
    "    couple_dist = pairwise_distances(headline_features,headline_features[row_index])\n",
    "    indices = np.argsort(couple_dist.ravel())[0:num_similar_items]\n",
    "    df = pd.DataFrame({'publish_date': data['date'][indices].values,\n",
    "               'headline':data['headline'][indices].values,\n",
    "                'Euclidean similarity with the queried article': couple_dist[indices].ravel()})\n",
    "    print(\"=\"*30,\"Queried article details\",\"=\"*30)\n",
    "    print('headline : ',data['headline'][indices[0]])\n",
    "    print(\"\\n\",\"=\"*25,\"Recommended articles : \",\"=\"*23)\n",
    "    #return df.iloc[1:,1]\n",
    "    return df.iloc[1:,]\n",
    "bag_of_words_based_model(100, 6)"
   ]
  },
  {
   "cell_type": "markdown",
   "id": "1360cf97",
   "metadata": {},
   "source": [
    "### 1.2 Cosine similaity"
   ]
  },
  {
   "cell_type": "code",
   "execution_count": 38,
   "id": "cdbf0f29",
   "metadata": {},
   "outputs": [
    {
     "name": "stdout",
     "output_type": "stream",
     "text": [
      "============================== Queried article details ==============================\n",
      "headline: rupauls drag race star 3 episode 3 recap bitchelors heart\n",
      "\n",
      " ========================= Recommended articles: =======================\n"
     ]
    },
    {
     "data": {
      "text/html": [
       "<div>\n",
       "<style scoped>\n",
       "    .dataframe tbody tr th:only-of-type {\n",
       "        vertical-align: middle;\n",
       "    }\n",
       "\n",
       "    .dataframe tbody tr th {\n",
       "        vertical-align: top;\n",
       "    }\n",
       "\n",
       "    .dataframe thead th {\n",
       "        text-align: right;\n",
       "    }\n",
       "</style>\n",
       "<table border=\"1\" class=\"dataframe\">\n",
       "  <thead>\n",
       "    <tr style=\"text-align: right;\">\n",
       "      <th></th>\n",
       "      <th>publish_date</th>\n",
       "      <th>headline</th>\n",
       "      <th>Cosine similarity with the queried article</th>\n",
       "    </tr>\n",
       "  </thead>\n",
       "  <tbody>\n",
       "    <tr>\n",
       "      <th>0</th>\n",
       "      <td>2018-02-12</td>\n",
       "      <td>rupauls drag race star 3 episode 3 recap bitchelors heart</td>\n",
       "      <td>0.750000</td>\n",
       "    </tr>\n",
       "    <tr>\n",
       "      <th>1</th>\n",
       "      <td>2018-02-16</td>\n",
       "      <td>rupauls drag race star 3 episode 4 recap snatch game</td>\n",
       "      <td>0.750000</td>\n",
       "    </tr>\n",
       "    <tr>\n",
       "      <th>2</th>\n",
       "      <td>2018-03-16</td>\n",
       "      <td>rupauls drag race star 3 episode 8 recap queen snatch crown</td>\n",
       "      <td>0.707107</td>\n",
       "    </tr>\n",
       "    <tr>\n",
       "      <th>3</th>\n",
       "      <td>2018-03-02</td>\n",
       "      <td>rupauls drag race star 3 episode 6 recap queen return competition</td>\n",
       "      <td>0.707107</td>\n",
       "    </tr>\n",
       "    <tr>\n",
       "      <th>4</th>\n",
       "      <td>2018-03-09</td>\n",
       "      <td>rupauls drag race star 3 episode 7 recap never go back</td>\n",
       "      <td>0.707107</td>\n",
       "    </tr>\n",
       "    <tr>\n",
       "      <th>5</th>\n",
       "      <td>2018-01-29</td>\n",
       "      <td>rupauls drag race star 3 episode 1 recap queen go home first</td>\n",
       "      <td>0.670820</td>\n",
       "    </tr>\n",
       "  </tbody>\n",
       "</table>\n",
       "</div>"
      ],
      "text/plain": [
       "  publish_date  \\\n",
       "0 2018-02-12     \n",
       "1 2018-02-16     \n",
       "2 2018-03-16     \n",
       "3 2018-03-02     \n",
       "4 2018-03-09     \n",
       "5 2018-01-29     \n",
       "\n",
       "                                                            headline  \\\n",
       "0  rupauls drag race star 3 episode 3 recap bitchelors heart           \n",
       "1  rupauls drag race star 3 episode 4 recap snatch game                \n",
       "2  rupauls drag race star 3 episode 8 recap queen snatch crown         \n",
       "3  rupauls drag race star 3 episode 6 recap queen return competition   \n",
       "4  rupauls drag race star 3 episode 7 recap never go back              \n",
       "5  rupauls drag race star 3 episode 1 recap queen go home first        \n",
       "\n",
       "   Cosine similarity with the queried article  \n",
       "0  0.750000                                    \n",
       "1  0.750000                                    \n",
       "2  0.707107                                    \n",
       "3  0.707107                                    \n",
       "4  0.707107                                    \n",
       "5  0.670820                                    "
      ]
     },
     "execution_count": 38,
     "metadata": {},
     "output_type": "execute_result"
    }
   ],
   "source": [
    "def bag_of_words_based_model(row_index, num_similar_items):\n",
    "    cosine_similarities = pairwise_distances(headline_features, headline_features[row_index], metric='cosine')\n",
    "    indices = np.argsort(cosine_similarities.ravel())[1:num_similar_items + 1]\n",
    "    df = pd.DataFrame({\n",
    "        'publish_date': data['date'][indices].values,\n",
    "        'headline': data['headline'][indices].values,\n",
    "        'Cosine similarity with the queried article': 1 - cosine_similarities[indices].ravel()\n",
    "    })\n",
    "    print(\"=\" * 30, \"Queried article details\", \"=\" * 30)\n",
    "    print('headline:', data['headline'][indices[0]])\n",
    "    print(\"\\n\", \"=\" * 25, \"Recommended articles:\", \"=\" * 23)\n",
    "    return df\n",
    "bag_of_words_based_model(100, 6)"
   ]
  },
  {
   "cell_type": "markdown",
   "id": "a078aa27",
   "metadata": {},
   "source": [
    "### 2.TF-IDF method"
   ]
  },
  {
   "cell_type": "code",
   "execution_count": 39,
   "id": "232c9f7f",
   "metadata": {},
   "outputs": [],
   "source": [
    "tfidf_headline_vectorizer = TfidfVectorizer(min_df = 0)\n",
    "tfidf_headline_features = tfidf_headline_vectorizer.fit_transform(data['headline'])"
   ]
  },
  {
   "cell_type": "markdown",
   "id": "417a5ff2",
   "metadata": {},
   "source": [
    "### 2.1 Euclidean Distance"
   ]
  },
  {
   "cell_type": "code",
   "execution_count": 40,
   "id": "4c6689c1",
   "metadata": {},
   "outputs": [
    {
     "name": "stdout",
     "output_type": "stream",
     "text": [
      "============================== Queried article details ==============================\n",
      "headline :  rupauls drag race star 3 episode 2 recap sour milk\n",
      "\n",
      " ========================= Recommended articles :  =======================\n"
     ]
    },
    {
     "data": {
      "text/html": [
       "<div>\n",
       "<style scoped>\n",
       "    .dataframe tbody tr th:only-of-type {\n",
       "        vertical-align: middle;\n",
       "    }\n",
       "\n",
       "    .dataframe tbody tr th {\n",
       "        vertical-align: top;\n",
       "    }\n",
       "\n",
       "    .dataframe thead th {\n",
       "        text-align: right;\n",
       "    }\n",
       "</style>\n",
       "<table border=\"1\" class=\"dataframe\">\n",
       "  <thead>\n",
       "    <tr style=\"text-align: right;\">\n",
       "      <th></th>\n",
       "      <th>publish_date</th>\n",
       "      <th>headline</th>\n",
       "      <th>Euclidean similarity with the queried article</th>\n",
       "    </tr>\n",
       "  </thead>\n",
       "  <tbody>\n",
       "    <tr>\n",
       "      <th>1</th>\n",
       "      <td>2018-03-09</td>\n",
       "      <td>rupauls drag race star 3 episode 7 recap never go back</td>\n",
       "      <td>0.748234</td>\n",
       "    </tr>\n",
       "    <tr>\n",
       "      <th>2</th>\n",
       "      <td>2018-01-29</td>\n",
       "      <td>rupauls drag race star 3 episode 1 recap queen go home first</td>\n",
       "      <td>0.791310</td>\n",
       "    </tr>\n",
       "    <tr>\n",
       "      <th>3</th>\n",
       "      <td>2018-02-16</td>\n",
       "      <td>rupauls drag race star 3 episode 4 recap snatch game</td>\n",
       "      <td>0.794625</td>\n",
       "    </tr>\n",
       "    <tr>\n",
       "      <th>4</th>\n",
       "      <td>2018-03-02</td>\n",
       "      <td>rupauls drag race star 3 episode 6 recap queen return competition</td>\n",
       "      <td>0.820942</td>\n",
       "    </tr>\n",
       "    <tr>\n",
       "      <th>5</th>\n",
       "      <td>2015-02-25</td>\n",
       "      <td>6 question milk rupauls drag race</td>\n",
       "      <td>0.840004</td>\n",
       "    </tr>\n",
       "  </tbody>\n",
       "</table>\n",
       "</div>"
      ],
      "text/plain": [
       "  publish_date  \\\n",
       "1 2018-03-09     \n",
       "2 2018-01-29     \n",
       "3 2018-02-16     \n",
       "4 2018-03-02     \n",
       "5 2015-02-25     \n",
       "\n",
       "                                                            headline  \\\n",
       "1  rupauls drag race star 3 episode 7 recap never go back              \n",
       "2  rupauls drag race star 3 episode 1 recap queen go home first        \n",
       "3  rupauls drag race star 3 episode 4 recap snatch game                \n",
       "4  rupauls drag race star 3 episode 6 recap queen return competition   \n",
       "5  6 question milk rupauls drag race                                   \n",
       "\n",
       "   Euclidean similarity with the queried article  \n",
       "1  0.748234                                       \n",
       "2  0.791310                                       \n",
       "3  0.794625                                       \n",
       "4  0.820942                                       \n",
       "5  0.840004                                       "
      ]
     },
     "execution_count": 40,
     "metadata": {},
     "output_type": "execute_result"
    }
   ],
   "source": [
    "def tfidf_based_model(row_index, num_similar_items):\n",
    "    couple_dist = pairwise_distances(tfidf_headline_features,tfidf_headline_features[row_index])\n",
    "    indices = np.argsort(couple_dist.ravel())[0:num_similar_items]\n",
    "    df = pd.DataFrame({'publish_date': data['date'][indices].values,\n",
    "               'headline':data['headline'][indices].values,\n",
    "                'Euclidean similarity with the queried article': couple_dist[indices].ravel()})\n",
    "    print(\"=\"*30,\"Queried article details\",\"=\"*30)\n",
    "    print('headline : ',data['headline'][indices[0]])\n",
    "    print(\"\\n\",\"=\"*25,\"Recommended articles : \",\"=\"*23)\n",
    "    \n",
    "    #return df.iloc[1:,1]\n",
    "    return df.iloc[1:,]\n",
    "tfidf_based_model(100, 6)"
   ]
  },
  {
   "cell_type": "markdown",
   "id": "dcb907b4",
   "metadata": {},
   "source": [
    "### 2.2 Cosine Similarity"
   ]
  },
  {
   "cell_type": "code",
   "execution_count": 41,
   "id": "1a755236",
   "metadata": {},
   "outputs": [
    {
     "name": "stdout",
     "output_type": "stream",
     "text": [
      "============================== Queried article details ==============================\n",
      "headline: rupauls drag race star 3 episode 3 recap bitchelors heart\n",
      "\n",
      " ========================= Recommended articles: =======================\n"
     ]
    },
    {
     "data": {
      "text/html": [
       "<div>\n",
       "<style scoped>\n",
       "    .dataframe tbody tr th:only-of-type {\n",
       "        vertical-align: middle;\n",
       "    }\n",
       "\n",
       "    .dataframe tbody tr th {\n",
       "        vertical-align: top;\n",
       "    }\n",
       "\n",
       "    .dataframe thead th {\n",
       "        text-align: right;\n",
       "    }\n",
       "</style>\n",
       "<table border=\"1\" class=\"dataframe\">\n",
       "  <thead>\n",
       "    <tr style=\"text-align: right;\">\n",
       "      <th></th>\n",
       "      <th>publish_date</th>\n",
       "      <th>headline</th>\n",
       "      <th>Cosine similarity with the queried article</th>\n",
       "    </tr>\n",
       "  </thead>\n",
       "  <tbody>\n",
       "    <tr>\n",
       "      <th>0</th>\n",
       "      <td>2018-02-12</td>\n",
       "      <td>rupauls drag race star 3 episode 3 recap bitchelors heart</td>\n",
       "      <td>0.750000</td>\n",
       "    </tr>\n",
       "    <tr>\n",
       "      <th>1</th>\n",
       "      <td>2018-02-16</td>\n",
       "      <td>rupauls drag race star 3 episode 4 recap snatch game</td>\n",
       "      <td>0.750000</td>\n",
       "    </tr>\n",
       "    <tr>\n",
       "      <th>2</th>\n",
       "      <td>2018-03-16</td>\n",
       "      <td>rupauls drag race star 3 episode 8 recap queen snatch crown</td>\n",
       "      <td>0.707107</td>\n",
       "    </tr>\n",
       "    <tr>\n",
       "      <th>3</th>\n",
       "      <td>2018-03-02</td>\n",
       "      <td>rupauls drag race star 3 episode 6 recap queen return competition</td>\n",
       "      <td>0.707107</td>\n",
       "    </tr>\n",
       "    <tr>\n",
       "      <th>4</th>\n",
       "      <td>2018-03-09</td>\n",
       "      <td>rupauls drag race star 3 episode 7 recap never go back</td>\n",
       "      <td>0.707107</td>\n",
       "    </tr>\n",
       "    <tr>\n",
       "      <th>5</th>\n",
       "      <td>2018-01-29</td>\n",
       "      <td>rupauls drag race star 3 episode 1 recap queen go home first</td>\n",
       "      <td>0.670820</td>\n",
       "    </tr>\n",
       "  </tbody>\n",
       "</table>\n",
       "</div>"
      ],
      "text/plain": [
       "  publish_date  \\\n",
       "0 2018-02-12     \n",
       "1 2018-02-16     \n",
       "2 2018-03-16     \n",
       "3 2018-03-02     \n",
       "4 2018-03-09     \n",
       "5 2018-01-29     \n",
       "\n",
       "                                                            headline  \\\n",
       "0  rupauls drag race star 3 episode 3 recap bitchelors heart           \n",
       "1  rupauls drag race star 3 episode 4 recap snatch game                \n",
       "2  rupauls drag race star 3 episode 8 recap queen snatch crown         \n",
       "3  rupauls drag race star 3 episode 6 recap queen return competition   \n",
       "4  rupauls drag race star 3 episode 7 recap never go back              \n",
       "5  rupauls drag race star 3 episode 1 recap queen go home first        \n",
       "\n",
       "   Cosine similarity with the queried article  \n",
       "0  0.750000                                    \n",
       "1  0.750000                                    \n",
       "2  0.707107                                    \n",
       "3  0.707107                                    \n",
       "4  0.707107                                    \n",
       "5  0.670820                                    "
      ]
     },
     "execution_count": 41,
     "metadata": {},
     "output_type": "execute_result"
    }
   ],
   "source": [
    "def bag_of_words_based_model(row_index, num_similar_items):\n",
    "    cosine_similarities = pairwise_distances(headline_features, headline_features[row_index], metric='cosine')\n",
    "    indices = np.argsort(cosine_similarities.ravel())[1:num_similar_items + 1]\n",
    "    df = pd.DataFrame({\n",
    "        'publish_date': data['date'][indices].values,\n",
    "        'headline': data['headline'][indices].values,\n",
    "        'Cosine similarity with the queried article': 1 - cosine_similarities[indices].ravel()\n",
    "    })\n",
    "    print(\"=\" * 30, \"Queried article details\", \"=\" * 30)\n",
    "    print('headline:', data['headline'][indices[0]])\n",
    "    print(\"\\n\", \"=\" * 25, \"Recommended articles:\", \"=\" * 23)\n",
    "    return df\n",
    "bag_of_words_based_model(100, 6)"
   ]
  }
 ],
 "metadata": {
  "kernelspec": {
   "display_name": "Python 3 (ipykernel)",
   "language": "python",
   "name": "python3"
  },
  "language_info": {
   "codemirror_mode": {
    "name": "ipython",
    "version": 3
   },
   "file_extension": ".py",
   "mimetype": "text/x-python",
   "name": "python",
   "nbconvert_exporter": "python",
   "pygments_lexer": "ipython3",
   "version": "3.9.12"
  }
 },
 "nbformat": 4,
 "nbformat_minor": 5
}
